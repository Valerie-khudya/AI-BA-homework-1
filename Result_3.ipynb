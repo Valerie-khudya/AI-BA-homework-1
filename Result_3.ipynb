{
 "cells": [
  {
   "cell_type": "code",
   "execution_count": 2,
   "metadata": {},
   "outputs": [
    {
     "data": {
      "text/plain": [
       "Index(['customerID', 'gender', 'SeniorCitizen', 'Partner', 'Dependents',\n",
       "       'tenure', 'PhoneService', 'MultipleLines', 'OnlineBackup',\n",
       "       'StreamingTV', 'StreamingMovies', 'Contract', 'PaperlessBilling',\n",
       "       'MonthlyCharges', 'TotalCharges', 'numAdminTickets', 'numTechTickets',\n",
       "       'Churn', 'ln_TotalCharges', 'gender_encoded', 'Partner_encoded',\n",
       "       'PhoneService_encoded', 'StreamingMovies_encoded',\n",
       "       'PaperlessBilling_encoded', 'Churn_encoded', 'OnlineSecurity_No',\n",
       "       'OnlineSecurity_No internet service', 'OnlineSecurity_Yes',\n",
       "       'calls_count', 'InternetService_DSL', 'InternetService_Fiber optic',\n",
       "       'InternetService_No', 'DeviceProtection_No',\n",
       "       'DeviceProtection_No internet service', 'DeviceProtection_Yes',\n",
       "       'TechSupport_No', 'TechSupport_No internet service', 'TechSupport_Yes',\n",
       "       'PaymentMethod_Bank transfer (automatic)',\n",
       "       'PaymentMethod_Credit card (automatic)',\n",
       "       'PaymentMethod_Electronic check', 'PaymentMethod_Mailed check'],\n",
       "      dtype='object')"
      ]
     },
     "execution_count": 2,
     "metadata": {},
     "output_type": "execute_result"
    }
   ],
   "source": [
    "import pandas as pd\n",
    "\n",
    "\n",
    "df = pd.read_csv('df_clean_main.csv')\n",
    "df.columns"
   ]
  },
  {
   "cell_type": "markdown",
   "metadata": {},
   "source": [
    "Для начала определим какие признаки могут быть использованы для логистической регрессии."
   ]
  },
  {
   "cell_type": "code",
   "execution_count": 3,
   "metadata": {},
   "outputs": [
    {
     "data": {
      "text/plain": [
       "customerID                                  object\n",
       "gender                                      object\n",
       "SeniorCitizen                                int64\n",
       "Partner                                     object\n",
       "Dependents                                  object\n",
       "tenure                                       int64\n",
       "PhoneService                                object\n",
       "MultipleLines                               object\n",
       "OnlineBackup                                object\n",
       "StreamingTV                                 object\n",
       "StreamingMovies                             object\n",
       "Contract                                    object\n",
       "PaperlessBilling                            object\n",
       "MonthlyCharges                             float64\n",
       "TotalCharges                               float64\n",
       "numAdminTickets                              int64\n",
       "numTechTickets                               int64\n",
       "Churn                                       object\n",
       "ln_TotalCharges                            float64\n",
       "gender_encoded                               int64\n",
       "Partner_encoded                              int64\n",
       "PhoneService_encoded                         int64\n",
       "StreamingMovies_encoded                      int64\n",
       "PaperlessBilling_encoded                     int64\n",
       "Churn_encoded                                int64\n",
       "OnlineSecurity_No                            int64\n",
       "OnlineSecurity_No internet service           int64\n",
       "OnlineSecurity_Yes                           int64\n",
       "calls_count                                float64\n",
       "InternetService_DSL                          int64\n",
       "InternetService_Fiber optic                  int64\n",
       "InternetService_No                           int64\n",
       "DeviceProtection_No                          int64\n",
       "DeviceProtection_No internet service         int64\n",
       "DeviceProtection_Yes                         int64\n",
       "TechSupport_No                               int64\n",
       "TechSupport_No internet service              int64\n",
       "TechSupport_Yes                              int64\n",
       "PaymentMethod_Bank transfer (automatic)      int64\n",
       "PaymentMethod_Credit card (automatic)        int64\n",
       "PaymentMethod_Electronic check               int64\n",
       "PaymentMethod_Mailed check                   int64\n",
       "dtype: object"
      ]
     },
     "execution_count": 3,
     "metadata": {},
     "output_type": "execute_result"
    }
   ],
   "source": [
    "df.dtypes"
   ]
  },
  {
   "cell_type": "markdown",
   "metadata": {},
   "source": [
    "Убираем не числовые и категориальные"
   ]
  },
  {
   "cell_type": "code",
   "execution_count": 4,
   "metadata": {},
   "outputs": [
    {
     "data": {
      "text/plain": [
       "SeniorCitizen                              0.139826\n",
       "tenure                                    -0.386146\n",
       "MonthlyCharges                             0.135664\n",
       "TotalCharges                              -0.277303\n",
       "numAdminTickets                           -0.028311\n",
       "numTechTickets                             0.408255\n",
       "gender_encoded                            -0.008391\n",
       "Partner_encoded                           -0.149827\n",
       "PhoneService_encoded                       0.044143\n",
       "StreamingMovies_encoded                   -0.035643\n",
       "PaperlessBilling_encoded                   0.172677\n",
       "Churn_encoded                              1.000000\n",
       "OnlineSecurity_No                          0.320107\n",
       "OnlineSecurity_No internet service        -0.176414\n",
       "OnlineSecurity_Yes                        -0.215818\n",
       "calls_count                                0.592399\n",
       "InternetService_DSL                       -0.180823\n",
       "InternetService_Fiber optic                0.291625\n",
       "InternetService_No                        -0.176414\n",
       "DeviceProtection_No                        0.223887\n",
       "DeviceProtection_No internet service      -0.176414\n",
       "DeviceProtection_Yes                      -0.110108\n",
       "TechSupport_No                             0.314235\n",
       "TechSupport_No internet service           -0.176414\n",
       "TechSupport_Yes                           -0.209176\n",
       "PaymentMethod_Bank transfer (automatic)   -0.127519\n",
       "PaymentMethod_Credit card (automatic)     -0.139057\n",
       "PaymentMethod_Electronic check             0.292554\n",
       "PaymentMethod_Mailed check                -0.077818\n",
       "Name: Churn_encoded, dtype: float64"
      ]
     },
     "execution_count": 4,
     "metadata": {},
     "output_type": "execute_result"
    }
   ],
   "source": [
    "df_cleaned = df.drop(['customerID', 'gender', 'Partner', 'Dependents',\n",
    "       'PhoneService', 'MultipleLines', 'OnlineBackup', 'StreamingTV', 'StreamingMovies', 'Contract',\n",
    "       'PaperlessBilling', 'Churn', 'ln_TotalCharges',\n",
    "       ], axis=1)\n",
    "\n",
    "df_cleaned.corr(method='spearman', numeric_only=True)['Churn_encoded']"
   ]
  },
  {
   "cell_type": "markdown",
   "metadata": {},
   "source": [
    "\n",
    "Подходящие признаки:\n",
    "tenure                                    -0.386146\n",
    "TotalCharges                              -0.277303\n",
    "numTechTickets                             0.408255\n",
    "OnlineSecurity_No                          0.320107\n",
    "calls_count                                0.592399\n",
    "InternetService_Fiber optic                0.291625\n",
    "DeviceProtection_No                        0.223887\n",
    "TechSupport_No                             0.314235\n",
    "PaymentMethod_Electronic check             0.292554"
   ]
  },
  {
   "cell_type": "code",
   "execution_count": 5,
   "metadata": {},
   "outputs": [
    {
     "data": {
      "text/html": [
       "<div>\n",
       "<style scoped>\n",
       "    .dataframe tbody tr th:only-of-type {\n",
       "        vertical-align: middle;\n",
       "    }\n",
       "\n",
       "    .dataframe tbody tr th {\n",
       "        vertical-align: top;\n",
       "    }\n",
       "\n",
       "    .dataframe thead th {\n",
       "        text-align: right;\n",
       "    }\n",
       "</style>\n",
       "<table border=\"1\" class=\"dataframe\">\n",
       "  <thead>\n",
       "    <tr style=\"text-align: right;\">\n",
       "      <th></th>\n",
       "      <th>feature</th>\n",
       "      <th>VIF</th>\n",
       "    </tr>\n",
       "  </thead>\n",
       "  <tbody>\n",
       "    <tr>\n",
       "      <th>1</th>\n",
       "      <td>TotalCharges</td>\n",
       "      <td>13.3263</td>\n",
       "    </tr>\n",
       "    <tr>\n",
       "      <th>0</th>\n",
       "      <td>tenure</td>\n",
       "      <td>11.2543</td>\n",
       "    </tr>\n",
       "    <tr>\n",
       "      <th>5</th>\n",
       "      <td>InternetService_Fiber optic</td>\n",
       "      <td>3.8404</td>\n",
       "    </tr>\n",
       "    <tr>\n",
       "      <th>7</th>\n",
       "      <td>TechSupport_No</td>\n",
       "      <td>3.0258</td>\n",
       "    </tr>\n",
       "    <tr>\n",
       "      <th>3</th>\n",
       "      <td>OnlineSecurity_No</td>\n",
       "      <td>2.8938</td>\n",
       "    </tr>\n",
       "    <tr>\n",
       "      <th>6</th>\n",
       "      <td>DeviceProtection_No</td>\n",
       "      <td>2.2440</td>\n",
       "    </tr>\n",
       "    <tr>\n",
       "      <th>4</th>\n",
       "      <td>calls_count</td>\n",
       "      <td>2.1769</td>\n",
       "    </tr>\n",
       "    <tr>\n",
       "      <th>8</th>\n",
       "      <td>PaymentMethod_Electronic check</td>\n",
       "      <td>1.9094</td>\n",
       "    </tr>\n",
       "    <tr>\n",
       "      <th>2</th>\n",
       "      <td>numTechTickets</td>\n",
       "      <td>1.3049</td>\n",
       "    </tr>\n",
       "  </tbody>\n",
       "</table>\n",
       "</div>"
      ],
      "text/plain": [
       "                          feature      VIF\n",
       "1                    TotalCharges  13.3263\n",
       "0                          tenure  11.2543\n",
       "5     InternetService_Fiber optic   3.8404\n",
       "7                  TechSupport_No   3.0258\n",
       "3               OnlineSecurity_No   2.8938\n",
       "6             DeviceProtection_No   2.2440\n",
       "4                     calls_count   2.1769\n",
       "8  PaymentMethod_Electronic check   1.9094\n",
       "2                  numTechTickets   1.3049"
      ]
     },
     "execution_count": 5,
     "metadata": {},
     "output_type": "execute_result"
    }
   ],
   "source": [
    "from statsmodels.stats.outliers_influence import variance_inflation_factor\n",
    "\n",
    "# Убираем признаки, которые слабо коррелируют с целевой\n",
    "df_predictors = df_cleaned.drop(\n",
    "    [\n",
    "        'SeniorCitizen', 'MonthlyCharges', 'numAdminTickets', 'gender_encoded',\n",
    "        'PhoneService_encoded', 'StreamingMovies_encoded', 'Partner_encoded',\n",
    "        'PaperlessBilling_encoded', 'OnlineSecurity_No internet service',\n",
    "        'OnlineSecurity_Yes', 'InternetService_DSL', 'InternetService_No',\n",
    "        'DeviceProtection_No internet service', 'DeviceProtection_Yes',\n",
    "        'TechSupport_No internet service', 'TechSupport_Yes',\n",
    "        'PaymentMethod_Bank transfer (automatic)',\n",
    "        'PaymentMethod_Credit card (automatic)', 'PaymentMethod_Mailed check'\n",
    "    ], axis=1\n",
    ")\n",
    "\n",
    "vif_df = pd.DataFrame()\n",
    "df_without_target = df_predictors.drop(['Churn_encoded', ], axis=1)\n",
    "\n",
    "vif_df['feature'] = df_without_target.columns\n",
    "\n",
    "vif_df['VIF'] = [round(variance_inflation_factor(\n",
    "    df_without_target.values, i\n",
    "    ), 4) for i in range(df_without_target.shape[1])\n",
    "]\n",
    "\n",
    "vif_df.sort_values(by='VIF', ascending=False)\n",
    "\n"
   ]
  },
  {
   "cell_type": "code",
   "execution_count": 6,
   "metadata": {},
   "outputs": [
    {
     "data": {
      "text/html": [
       "<div>\n",
       "<style scoped>\n",
       "    .dataframe tbody tr th:only-of-type {\n",
       "        vertical-align: middle;\n",
       "    }\n",
       "\n",
       "    .dataframe tbody tr th {\n",
       "        vertical-align: top;\n",
       "    }\n",
       "\n",
       "    .dataframe thead th {\n",
       "        text-align: right;\n",
       "    }\n",
       "</style>\n",
       "<table border=\"1\" class=\"dataframe\">\n",
       "  <thead>\n",
       "    <tr style=\"text-align: right;\">\n",
       "      <th></th>\n",
       "      <th>feature</th>\n",
       "      <th>VIF</th>\n",
       "    </tr>\n",
       "  </thead>\n",
       "  <tbody>\n",
       "    <tr>\n",
       "      <th>6</th>\n",
       "      <td>TechSupport_No</td>\n",
       "      <td>2.9891</td>\n",
       "    </tr>\n",
       "    <tr>\n",
       "      <th>2</th>\n",
       "      <td>OnlineSecurity_No</td>\n",
       "      <td>2.8856</td>\n",
       "    </tr>\n",
       "    <tr>\n",
       "      <th>4</th>\n",
       "      <td>InternetService_Fiber optic</td>\n",
       "      <td>2.6749</td>\n",
       "    </tr>\n",
       "    <tr>\n",
       "      <th>5</th>\n",
       "      <td>DeviceProtection_No</td>\n",
       "      <td>2.2092</td>\n",
       "    </tr>\n",
       "    <tr>\n",
       "      <th>3</th>\n",
       "      <td>calls_count</td>\n",
       "      <td>2.1275</td>\n",
       "    </tr>\n",
       "    <tr>\n",
       "      <th>7</th>\n",
       "      <td>PaymentMethod_Electronic check</td>\n",
       "      <td>1.9056</td>\n",
       "    </tr>\n",
       "    <tr>\n",
       "      <th>0</th>\n",
       "      <td>tenure</td>\n",
       "      <td>1.6298</td>\n",
       "    </tr>\n",
       "    <tr>\n",
       "      <th>1</th>\n",
       "      <td>numTechTickets</td>\n",
       "      <td>1.2797</td>\n",
       "    </tr>\n",
       "  </tbody>\n",
       "</table>\n",
       "</div>"
      ],
      "text/plain": [
       "                          feature     VIF\n",
       "6                  TechSupport_No  2.9891\n",
       "2               OnlineSecurity_No  2.8856\n",
       "4     InternetService_Fiber optic  2.6749\n",
       "5             DeviceProtection_No  2.2092\n",
       "3                     calls_count  2.1275\n",
       "7  PaymentMethod_Electronic check  1.9056\n",
       "0                          tenure  1.6298\n",
       "1                  numTechTickets  1.2797"
      ]
     },
     "execution_count": 6,
     "metadata": {},
     "output_type": "execute_result"
    }
   ],
   "source": [
    "# Убираем TotalCharges\n",
    "df_predictors = df_predictors.drop(['TotalCharges'], axis=1)\n",
    "\n",
    "vif_df = pd.DataFrame()\n",
    "df_without_target = df_predictors.drop(['Churn_encoded', ], axis=1)\n",
    "\n",
    "vif_df['feature'] = df_without_target.columns\n",
    "\n",
    "vif_df['VIF'] = [round(variance_inflation_factor(\n",
    "    df_without_target.values, i\n",
    "    ), 4) for i in range(df_without_target.shape[1])\n",
    "]\n",
    "\n",
    "vif_df.sort_values(by='VIF', ascending=False)"
   ]
  },
  {
   "cell_type": "code",
   "execution_count": 15,
   "metadata": {},
   "outputs": [],
   "source": [
    "from sklearn.linear_model import LogisticRegression\n",
    "from sklearn.model_selection import train_test_split\n",
    "\n",
    "# Разделяем данные для 1 модели\n",
    "X1 = df[[\n",
    "    'numTechTickets', 'OnlineSecurity_No', 'InternetService_Fiber optic',\n",
    "    'calls_count', 'tenure', 'TechSupport_No', 'DeviceProtection_No',\n",
    "    'PaymentMethod_Electronic check'\n",
    "]]\n",
    "\n",
    "Y = df['Churn_encoded']\n",
    "\n",
    "X_train1, X_test1, y_train1, y_test1 = train_test_split(X1, Y,\n",
    "                                                        test_size=0.2,\n",
    "                                                        random_state=42)\n",
    "\n",
    "\n",
    "model1 = LogisticRegression().fit(X_train1, y_train1)"
   ]
  },
  {
   "cell_type": "code",
   "execution_count": 16,
   "metadata": {},
   "outputs": [
    {
     "data": {
      "text/plain": [
       "(0.9129032258064517,\n",
       " 0.8490028490028491,\n",
       " 0.8441926345609065,\n",
       " 0.8465909090909091,\n",
       " array([[834,  53],\n",
       "        [ 55, 298]]))"
      ]
     },
     "execution_count": 16,
     "metadata": {},
     "output_type": "execute_result"
    }
   ],
   "source": [
    "from sklearn.metrics import (\n",
    "    accuracy_score, precision_score, recall_score, f1_score, confusion_matrix\n",
    ")\n",
    "\n",
    "\n",
    "y_pred1 = model1.predict(X_test1)\n",
    "\n",
    "accuracy_1 = accuracy_score(y_test1, y_pred1)\n",
    "precision_1 = precision_score(y_test1, y_pred1)\n",
    "recall_1 = recall_score(y_test1, y_pred1)\n",
    "f1_1 = f1_score(y_test1, y_pred1)\n",
    "matrix_1 = confusion_matrix(y_test1, y_pred1)\n",
    "\n",
    "accuracy_1, precision_1, recall_1, f1_1, matrix_1"
   ]
  },
  {
   "cell_type": "code",
   "execution_count": 17,
   "metadata": {},
   "outputs": [
    {
     "data": {
      "text/plain": [
       "(np.float64(0.969978697650354), 0.19667807406638418)"
      ]
     },
     "execution_count": 17,
     "metadata": {},
     "output_type": "execute_result"
    }
   ],
   "source": [
    "from sklearn.metrics import roc_auc_score, log_loss\n",
    "\n",
    "\n",
    "y_pred_proba_1 = model1.predict_proba(X_test1)\n",
    "roc_1 = roc_auc_score(y_test1, y_pred_proba_1[:, 1])\n",
    "log_1 = log_loss(y_test1, y_pred_proba_1[:, 1])\n",
    "roc_1, log_1"
   ]
  },
  {
   "cell_type": "code",
   "execution_count": 18,
   "metadata": {},
   "outputs": [
    {
     "data": {
      "image/png": "[encoded data removed]",
      "text/plain": [
       "<Figure size 600x600 with 1 Axes>"
      ]
     },
     "metadata": {},
     "output_type": "display_data"
    }
   ],
   "source": [
    "import matplotlib.pyplot as plt\n",
    "from sklearn.metrics import roc_curve\n",
    "\n",
    "\n",
    "fpr1, tpr1, thresholds = roc_curve(y_test1, y_pred_proba_1[:, 1])\n",
    "\n",
    "fpr_random = [0, 1]\n",
    "tpr_random = [0, 1]\n",
    "\n",
    "\n",
    "plt.figure(figsize=(6,6))\n",
    "plt.plot(fpr1, tpr1, ls='-', label=f'Модель 1 (AUC = {roc_1:.3f})', color='green')\n",
    "plt.plot(fpr_random, tpr_random, ls='--', color='grey', label='Случайный классификатор')\n",
    "\n",
    "plt.xlabel('False Positive Rate')\n",
    "plt.ylabel('True Positive Rate')\n",
    "plt.title('ROC-кривая')\n",
    "plt.legend()\n",
    "plt.grid(True)\n"
   ]
  },
  {
   "cell_type": "markdown",
   "metadata": {},
   "source": [
    "2 модель"
   ]
  },
  {
   "cell_type": "code",
   "execution_count": 32,
   "metadata": {},
   "outputs": [],
   "source": [
    "X2 = df[['numTechTickets', 'calls_count']]\n",
    "X2 = df[['numTechTickets', 'calls_count', 'tenure']]\n",
    "Y = df['Churn_encoded']\n",
    "\n",
    "X_train2, X_test2, y_train2, y_test2 = train_test_split(X2, Y,\n",
    "                                                        test_size=0.2,\n",
    "                                                        random_state=42)\n",
    "\n",
    "model2 = LogisticRegression().fit(X_train2, y_train2)\n"
   ]
  },
  {
   "cell_type": "code",
   "execution_count": 33,
   "metadata": {},
   "outputs": [
    {
     "data": {
      "text/plain": [
       "(0.8951612903225806,\n",
       " 0.8105849582172702,\n",
       " 0.8243626062322946,\n",
       " 0.8174157303370787,\n",
       " array([[819,  68],\n",
       "        [ 62, 291]]))"
      ]
     },
     "execution_count": 33,
     "metadata": {},
     "output_type": "execute_result"
    }
   ],
   "source": [
    "y_pred2 = model2.predict(X_test2)\n",
    "\n",
    "accuracy_2 = accuracy_score(y_test2, y_pred2)\n",
    "precision_2 = precision_score(y_test2, y_pred2)\n",
    "recall_2 = recall_score(y_test2, y_pred2)\n",
    "f1_2 = f1_score(y_test2, y_pred2)\n",
    "matrix_2 = confusion_matrix(y_test2, y_pred2)\n",
    "\n",
    "accuracy_2, precision_2, recall_2, f1_2, matrix_2"
   ]
  },
  {
   "cell_type": "code",
   "execution_count": 34,
   "metadata": {},
   "outputs": [
    {
     "data": {
      "text/plain": [
       "(np.float64(0.9583709930344191), 0.22900263318369055)"
      ]
     },
     "execution_count": 34,
     "metadata": {},
     "output_type": "execute_result"
    }
   ],
   "source": [
    "y_pred_proba_2 = model2.predict_proba(X_test2)\n",
    "roc_2 = roc_auc_score(y_test2, y_pred_proba_2[:, 1])\n",
    "log_2 = log_loss(y_test2, y_pred_proba_2[:, 1])\n",
    "roc_2, log_2\n"
   ]
  },
  {
   "cell_type": "code",
   "execution_count": 35,
   "metadata": {},
   "outputs": [
    {
     "data": {
      "image/png": "[encoded data removed]",
      "text/plain": [
       "<Figure size 600x600 with 1 Axes>"
      ]
     },
     "metadata": {},
     "output_type": "display_data"
    }
   ],
   "source": [
    "fpr2, tpr2, thresholds2 = roc_curve(y_test2, y_pred_proba_2[:, 1])\n",
    "\n",
    "fpr_random = [0, 1]\n",
    "tpr_random = [0, 1]\n",
    "\n",
    "\n",
    "plt.figure(figsize=(6,6))\n",
    "plt.plot(fpr1, tpr1, ls='-', label=f'Модель 1 (AUC = {roc_1:.3f})', color='green')\n",
    "plt.plot(fpr2, tpr2, ls='-.', label=f'Модель 2 (AUC = {roc_2:.3f})', color='blue')\n",
    "plt.plot(fpr_random, tpr_random, ls='--', color='grey', label='Случайный классификатор')\n",
    "\n",
    "plt.xlabel('False Positive Rate')\n",
    "plt.ylabel('True Positive Rate')\n",
    "plt.title('ROC-кривая')\n",
    "plt.legend()\n",
    "plt.grid(True)"
   ]
  }
 ],
 "metadata": {
  "kernelspec": {
   "display_name": "base",
   "language": "python",
   "name": "python3"
  },
  "language_info": {
   "codemirror_mode": {
    "name": "ipython",
    "version": 3
   },
   "file_extension": ".py",
   "mimetype": "text/x-python",
   "name": "python",
   "nbconvert_exporter": "python",
   "pygments_lexer": "ipython3",
   "version": "3.13.5"
  }
 },
 "nbformat": 4,
 "nbformat_minor": 2
}
